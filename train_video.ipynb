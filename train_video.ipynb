{
 "cells": [
  {
   "cell_type": "code",
   "execution_count": 1,
   "id": "6e453c0e-05dd-49f9-96b3-42a29c021fef",
   "metadata": {},
   "outputs": [
    {
     "name": "stderr",
     "output_type": "stream",
     "text": [
      "/home/moon/miniconda3/envs/torch/lib/python3.8/site-packages/tqdm/auto.py:22: TqdmWarning: IProgress not found. Please update jupyter and ipywidgets. See https://ipywidgets.readthedocs.io/en/stable/user_install.html\n",
      "  from .autonotebook import tqdm as notebook_tqdm\n"
     ]
    },
    {
     "name": "stdout",
     "output_type": "stream",
     "text": [
      "importing Jupyter notebook from /home/moon/research/sitting-posture-recognition/dataloader/dataloaderC.ipynb\n",
      "importing Jupyter notebook from /home/moon/research/sitting-posture-recognition/models/Video_C3D.ipynb\n"
     ]
    }
   ],
   "source": [
    "import import_ipynb\n",
    "import timeit\n",
    "import time\n",
    "from datetime import datetime\n",
    "import os\n",
    "import glob\n",
    "from tqdm import tqdm\n",
    "\n",
    "import torch\n",
    "from torch import nn, optim\n",
    "from torch.utils.data import DataLoader\n",
    "\n",
    "from dataloader.dataloaderC import VideoDataset\n",
    "from models.Video_C3D import C3D"
   ]
  },
  {
   "cell_type": "code",
   "execution_count": 2,
   "id": "b523524f-fc09-4076-9490-9dc1a1256f0e",
   "metadata": {},
   "outputs": [
    {
     "name": "stdout",
     "output_type": "stream",
     "text": [
      "Device being used: cuda:1\n"
     ]
    }
   ],
   "source": [
    "device = torch.device(\"cuda:1\" if torch.cuda.is_available() else \"cpu\")\n",
    "print(\"Device being used:\", device)\n",
    "\n",
    "nEpochs = 10  # Number of epochs for training\n",
    "resume_epoch = 0  # Default is 0, change if want to resume\n",
    "useTest = True # See evolution of the test set when training\n",
    "nTestInterval = 20 # Run on test set every nTestInterval epochs\n",
    "snapshot = 10 # Store a model every snapshot epochs\n",
    "lr = 1e-3 # Learning rate\n",
    "\n",
    "dataset = 'sitting'\n",
    "\n",
    "save_dir = '/home/moon/research/sitting-posture-recognition'\n",
    "num_classes = 6\n",
    "modelName = 'C3D'\n",
    "saveName = modelName + '-' + dataset\n",
    "pretrained = True\n",
    "clip_len=30"
   ]
  },
  {
   "cell_type": "code",
   "execution_count": 3,
   "id": "73c9612a-b97e-467c-8235-32f164a6e5d7",
   "metadata": {},
   "outputs": [],
   "source": [
    "def train_model(dataset=dataset, num_classes=num_classes, lr=lr,\n",
    "                num_epochs=nEpochs, save_epoch=snapshot, useTest=useTest, test_interval=nTestInterval, pretrained=pretrained):\n",
    "    \n",
    "    model = C3D(num_classes=num_classes, pretrained=pretrained)\n",
    "    \n",
    "    criterion = nn.CrossEntropyLoss()  # standard crossentropy loss for classification\n",
    "    # optimizer = optim.Adam(model.parameters(), lr=lr)\n",
    "    optimizer = optim.SGD(model.parameters(), lr=lr)\n",
    "    # scheduler = optim.lr_scheduler.StepLR(optimizer, step_size=10,\n",
    "    #                                       gamma=0.1)  # the scheduler divides the lr by 10 every 10 epochs\n",
    "\n",
    "    if resume_epoch == 0:\n",
    "        print(\"Training {} from scratch...\".format(modelName))\n",
    "\n",
    "    model.to(device)\n",
    "    \n",
    "    print('model loaded')\n",
    "    criterion.to(device)\n",
    "\n",
    "    print('Training model on {} dataset...'.format(dataset))\n",
    "    train_dataloader = DataLoader(VideoDataset(dataset=dataset, split='train',clip_len=clip_len), batch_size=6, shuffle=True)\n",
    "    val_dataloader   = DataLoader(VideoDataset(dataset=dataset, split='val',  clip_len=clip_len), batch_size=6)\n",
    "    test_dataloader  = DataLoader(VideoDataset(dataset=dataset, split='test', clip_len=clip_len), batch_size=6)\n",
    "\n",
    "    trainval_loaders = {'train': train_dataloader, 'val': val_dataloader}\n",
    "    trainval_sizes = {x: len(trainval_loaders[x].dataset) for x in ['train', 'val']}\n",
    "    test_size = len(test_dataloader.dataset) # 1234\n",
    "\n",
    "    for epoch in range(resume_epoch, num_epochs): # 0 ~ 100\n",
    "        \n",
    "        for phase in ['train', 'val']:\n",
    "            start_time = timeit.default_timer()\n",
    "\n",
    "            # reset the running loss and corrects\n",
    "            running_loss = 0.0\n",
    "            running_corrects = 0.0\n",
    "\n",
    "            if phase == 'train':\n",
    "                # scheduler.step() is to be called once every epoch during training\n",
    "                # scheduler.step()\n",
    "                model.train()\n",
    "            else:\n",
    "                model.eval()\n",
    "\n",
    "            for inputs, labels in tqdm(trainval_loaders[phase]):\n",
    "                inputs = inputs.to(device) \n",
    "                labels = labels.to(device) \n",
    "                \n",
    "                optimizer.zero_grad()\n",
    "\n",
    "                if phase == 'train':\n",
    "                    outputs, corr = model(inputs)\n",
    "                else:\n",
    "                    with torch.no_grad():\n",
    "                        outputs, corr = model(inputs)\n",
    "\n",
    "                # probs = nn.Softmax(dim=1)(outputs)\n",
    "                probs = outputs\n",
    "                preds = torch.max(probs, 1)[1] # indicies\n",
    "\n",
    "                loss = criterion(outputs, labels)\n",
    "\n",
    "                if phase == 'train':\n",
    "                    loss.backward()\n",
    "                    optimizer.step()\n",
    "\n",
    "                running_loss += loss.item() * inputs.size(0)\n",
    "                running_corrects += torch.sum(preds == labels.data)\n",
    "\n",
    "            epoch_loss = running_loss / trainval_sizes[phase]\n",
    "            epoch_acc = running_corrects.double() / trainval_sizes[phase]\n",
    "            \n",
    "            print(\"[{}] Epoch: {}/{} Loss: {} Acc: {}\".format(phase, epoch+1, nEpochs, epoch_loss, epoch_acc))\n",
    "            stop_time = timeit.default_timer()\n",
    "            print(\"Execution time: \" + str(stop_time - start_time) + \"\\n\")\n",
    "            \n",
    "            if epoch % save_epoch == (save_epoch - 1):\n",
    "                torch.save({\n",
    "                    'epoch': epoch + 1,\n",
    "                    'state_dict': model.state_dict(),\n",
    "                    'opt_dict': optimizer.state_dict(),\n",
    "                }, os.path.join(save_dir, 'models', saveName + '_epoch-' + str(epoch) + '.pth'))\n",
    "                print(\"Save model at {}\\n\".format(os.path.join(save_dir, 'models', saveName + '_epoch-' + str(epoch) + '.pth')))\n",
    "\n",
    "        # Eval using Test set\n",
    "        if useTest and epoch % test_interval == (test_interval - 1):\n",
    "            model.eval()\n",
    "            start_time = timeit.default_timer()\n",
    "\n",
    "            running_loss = 0.0\n",
    "            running_corrects = 0.0\n",
    "\n",
    "            for inputs, labels in tqdm(test_dataloader):\n",
    "                inputs = inputs.to(device)\n",
    "                labels = labels.to(device)\n",
    "\n",
    "                with torch.no_grad():\n",
    "                    outputs = model(inputs)\n",
    "                # probs = nn.Softmax(dim=1)(outputs)\n",
    "                probs = outputs\n",
    "                preds = torch.max(probs, 1)[1]\n",
    "                loss = criterion(outputs, labels)\n",
    "\n",
    "                running_loss += loss.item() * inputs.size(0)\n",
    "                running_corrects += torch.sum(preds == labels.data)\n",
    "\n",
    "            epoch_loss = running_loss / test_size\n",
    "            epoch_acc = running_corrects.double() / test_size\n",
    "\n",
    "            print(\"[test] Epoch: {}/{} Loss: {} Acc: {}\".format(epoch+1, nEpochs, epoch_loss, epoch_acc))\n",
    "            stop_time = timeit.default_timer()\n",
    "            print(\"Execution time: \" + str(stop_time - start_time) + \"\\n\")"
   ]
  },
  {
   "cell_type": "code",
   "execution_count": 4,
   "id": "5478af56-6221-4b13-bdc4-b8c2a42d485a",
   "metadata": {},
   "outputs": [
    {
     "name": "stdout",
     "output_type": "stream",
     "text": [
      "Loading Pretrained weights\n",
      "Training C3D from scratch...\n",
      "model loaded\n",
      "Training model on sitting dataset...\n",
      "Number of train videos: 193\n",
      "Number of val videos: 32\n",
      "Number of test videos: 32\n"
     ]
    },
    {
     "name": "stderr",
     "output_type": "stream",
     "text": [
      "100%|██████████| 33/33 [00:38<00:00,  1.17s/it]\n"
     ]
    },
    {
     "name": "stdout",
     "output_type": "stream",
     "text": [
      "[train] Epoch: 1/10 Loss: 2.837897399546569 Acc: 0.21761658031088082\n",
      "Execution time: 38.51915006712079\n",
      "\n"
     ]
    },
    {
     "name": "stderr",
     "output_type": "stream",
     "text": [
      "100%|██████████| 6/6 [00:04<00:00,  1.30it/s]\n"
     ]
    },
    {
     "name": "stdout",
     "output_type": "stream",
     "text": [
      "[val] Epoch: 1/10 Loss: 3.928849029354751 Acc: 0.1875\n",
      "Execution time: 4.603540454059839\n",
      "\n"
     ]
    },
    {
     "name": "stderr",
     "output_type": "stream",
     "text": [
      "100%|██████████| 33/33 [00:38<00:00,  1.16s/it]\n"
     ]
    },
    {
     "name": "stdout",
     "output_type": "stream",
     "text": [
      "[train] Epoch: 2/10 Loss: 0.9478628339892533 Acc: 0.6528497409326425\n",
      "Execution time: 38.2049507163465\n",
      "\n"
     ]
    },
    {
     "name": "stderr",
     "output_type": "stream",
     "text": [
      "100%|██████████| 6/6 [00:04<00:00,  1.32it/s]\n"
     ]
    },
    {
     "name": "stdout",
     "output_type": "stream",
     "text": [
      "[val] Epoch: 2/10 Loss: 1.0610321969725192 Acc: 0.625\n",
      "Execution time: 4.561471045017242\n",
      "\n"
     ]
    },
    {
     "name": "stderr",
     "output_type": "stream",
     "text": [
      "100%|██████████| 33/33 [00:38<00:00,  1.16s/it]\n"
     ]
    },
    {
     "name": "stdout",
     "output_type": "stream",
     "text": [
      "[train] Epoch: 3/10 Loss: 0.24180338815472285 Acc: 0.922279792746114\n",
      "Execution time: 38.35296492651105\n",
      "\n"
     ]
    },
    {
     "name": "stderr",
     "output_type": "stream",
     "text": [
      "100%|██████████| 6/6 [00:04<00:00,  1.29it/s]\n"
     ]
    },
    {
     "name": "stdout",
     "output_type": "stream",
     "text": [
      "[val] Epoch: 3/10 Loss: 0.844684116076678 Acc: 0.78125\n",
      "Execution time: 4.647149667143822\n",
      "\n"
     ]
    },
    {
     "name": "stderr",
     "output_type": "stream",
     "text": [
      "100%|██████████| 33/33 [00:38<00:00,  1.16s/it]\n"
     ]
    },
    {
     "name": "stdout",
     "output_type": "stream",
     "text": [
      "[train] Epoch: 4/10 Loss: 0.06055915347961564 Acc: 0.9948186528497409\n",
      "Execution time: 38.24595942348242\n",
      "\n"
     ]
    },
    {
     "name": "stderr",
     "output_type": "stream",
     "text": [
      "100%|██████████| 6/6 [00:04<00:00,  1.29it/s]\n"
     ]
    },
    {
     "name": "stdout",
     "output_type": "stream",
     "text": [
      "[val] Epoch: 4/10 Loss: 1.109754205797799 Acc: 0.71875\n",
      "Execution time: 4.646773472428322\n",
      "\n"
     ]
    },
    {
     "name": "stderr",
     "output_type": "stream",
     "text": [
      "100%|██████████| 33/33 [00:38<00:00,  1.16s/it]\n"
     ]
    },
    {
     "name": "stdout",
     "output_type": "stream",
     "text": [
      "[train] Epoch: 5/10 Loss: 0.027279840466214123 Acc: 1.0\n",
      "Execution time: 38.165158703923225\n",
      "\n"
     ]
    },
    {
     "name": "stderr",
     "output_type": "stream",
     "text": [
      "100%|██████████| 6/6 [00:04<00:00,  1.31it/s]\n"
     ]
    },
    {
     "name": "stdout",
     "output_type": "stream",
     "text": [
      "[val] Epoch: 5/10 Loss: 1.0134713941370137 Acc: 0.625\n",
      "Execution time: 4.570998191833496\n",
      "\n"
     ]
    },
    {
     "name": "stderr",
     "output_type": "stream",
     "text": [
      "100%|██████████| 33/33 [00:38<00:00,  1.16s/it]\n"
     ]
    },
    {
     "name": "stdout",
     "output_type": "stream",
     "text": [
      "[train] Epoch: 6/10 Loss: 0.008126129196001303 Acc: 1.0\n",
      "Execution time: 38.14018328115344\n",
      "\n"
     ]
    },
    {
     "name": "stderr",
     "output_type": "stream",
     "text": [
      "100%|██████████| 6/6 [00:04<00:00,  1.30it/s]\n"
     ]
    },
    {
     "name": "stdout",
     "output_type": "stream",
     "text": [
      "[val] Epoch: 6/10 Loss: 0.9108440046256874 Acc: 0.65625\n",
      "Execution time: 4.604030191898346\n",
      "\n"
     ]
    },
    {
     "name": "stderr",
     "output_type": "stream",
     "text": [
      "100%|██████████| 33/33 [00:38<00:00,  1.16s/it]\n"
     ]
    },
    {
     "name": "stdout",
     "output_type": "stream",
     "text": [
      "[train] Epoch: 7/10 Loss: 0.011220639074595834 Acc: 1.0\n",
      "Execution time: 38.24925338104367\n",
      "\n"
     ]
    },
    {
     "name": "stderr",
     "output_type": "stream",
     "text": [
      "100%|██████████| 6/6 [00:04<00:00,  1.29it/s]\n"
     ]
    },
    {
     "name": "stdout",
     "output_type": "stream",
     "text": [
      "[val] Epoch: 7/10 Loss: 0.8934747107559815 Acc: 0.71875\n",
      "Execution time: 4.649272203445435\n",
      "\n"
     ]
    },
    {
     "name": "stderr",
     "output_type": "stream",
     "text": [
      "100%|██████████| 33/33 [00:38<00:00,  1.16s/it]\n"
     ]
    },
    {
     "name": "stdout",
     "output_type": "stream",
     "text": [
      "[train] Epoch: 8/10 Loss: 0.004303410172177759 Acc: 1.0\n",
      "Execution time: 38.13302689418197\n",
      "\n"
     ]
    },
    {
     "name": "stderr",
     "output_type": "stream",
     "text": [
      "100%|██████████| 6/6 [00:04<00:00,  1.28it/s]\n"
     ]
    },
    {
     "name": "stdout",
     "output_type": "stream",
     "text": [
      "[val] Epoch: 8/10 Loss: 1.201609900337644 Acc: 0.65625\n",
      "Execution time: 4.673579595983028\n",
      "\n"
     ]
    },
    {
     "name": "stderr",
     "output_type": "stream",
     "text": [
      "100%|██████████| 33/33 [00:38<00:00,  1.16s/it]\n"
     ]
    },
    {
     "name": "stdout",
     "output_type": "stream",
     "text": [
      "[train] Epoch: 9/10 Loss: 0.003444890883736737 Acc: 1.0\n",
      "Execution time: 38.30988061055541\n",
      "\n"
     ]
    },
    {
     "name": "stderr",
     "output_type": "stream",
     "text": [
      "100%|██████████| 6/6 [00:04<00:00,  1.30it/s]\n"
     ]
    },
    {
     "name": "stdout",
     "output_type": "stream",
     "text": [
      "[val] Epoch: 9/10 Loss: 1.1122903343784856 Acc: 0.65625\n",
      "Execution time: 4.616324137896299\n",
      "\n"
     ]
    },
    {
     "name": "stderr",
     "output_type": "stream",
     "text": [
      "100%|██████████| 33/33 [00:38<00:00,  1.16s/it]\n"
     ]
    },
    {
     "name": "stdout",
     "output_type": "stream",
     "text": [
      "[train] Epoch: 10/10 Loss: 0.0029225195154856526 Acc: 1.0\n",
      "Execution time: 38.21821031719446\n",
      "\n",
      "Save model at /home/moon/research/sitting-posture-recognition/models/C3D-sitting_epoch-9.pth\n",
      "\n"
     ]
    },
    {
     "name": "stderr",
     "output_type": "stream",
     "text": [
      "100%|██████████| 6/6 [00:04<00:00,  1.29it/s]\n"
     ]
    },
    {
     "name": "stdout",
     "output_type": "stream",
     "text": [
      "[val] Epoch: 10/10 Loss: 1.0771007788862335 Acc: 0.65625\n",
      "Execution time: 4.658220365643501\n",
      "\n",
      "Save model at /home/moon/research/sitting-posture-recognition/models/C3D-sitting_epoch-9.pth\n",
      "\n"
     ]
    }
   ],
   "source": [
    "if __name__ == \"__main__\":\n",
    "    train_model()"
   ]
  },
  {
   "cell_type": "code",
   "execution_count": null,
   "id": "65c5295e-ae82-4323-8351-9b97806b7c96",
   "metadata": {},
   "outputs": [],
   "source": []
  }
 ],
 "metadata": {
  "kernelspec": {
   "display_name": "torch",
   "language": "python",
   "name": "torch"
  },
  "language_info": {
   "codemirror_mode": {
    "name": "ipython",
    "version": 3
   },
   "file_extension": ".py",
   "mimetype": "text/x-python",
   "name": "python",
   "nbconvert_exporter": "python",
   "pygments_lexer": "ipython3",
   "version": "3.8.12"
  }
 },
 "nbformat": 4,
 "nbformat_minor": 5
}
