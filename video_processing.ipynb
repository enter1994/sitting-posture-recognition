{
 "cells": [
  {
   "cell_type": "code",
   "execution_count": null,
   "id": "383763cd-5cf7-4aa1-9056-4291403e7bc6",
   "metadata": {},
   "outputs": [],
   "source": [
    "import cv2 as cv"
   ]
  },
  {
   "cell_type": "code",
   "execution_count": null,
   "id": "11fc02d4-a72b-41bf-a9dd-6a09addd6c8b",
   "metadata": {},
   "outputs": [],
   "source": [
    "# Frame by Frame\n",
    "video = cv.VideoCapture('2022-07-20 20-27-16_A1_M1.mp4')\n",
    "# window name and size\n",
    "cv.namedWindow(\"video\", cv.WINDOW_AUTOSIZE)\n",
    "count = 0\n",
    "while video.isOpened():\n",
    "    # Read video capture\n",
    "    ret, frame = video.read()\n",
    "    if not ret:\n",
    "        break\n",
    "    count += 1\n",
    "    # Display each frame\n",
    "    cv.putText(frame, f'frame{count}', (10,100), cv.FONT_HERSHEY_SIMPLEX, 2, (0,0,0), 1, cv.LINE_AA)\n",
    "    cv.imshow(\"video\", frame)\n",
    "    # show one frame at a time\n",
    "    key = cv.waitKey(0)\n",
    "    while key not in [ord('q'), ord('k')]:\n",
    "        key = cv.waitKey(0)\n",
    "    # Quit when 'q' is pressed\n",
    "    if key == ord('q'):\n",
    "        break\n",
    "\n",
    "# Release capture object\n",
    "video.release()\n",
    "# Exit and distroy all windows\n",
    "cv.destroyAllWindows()"
   ]
  }
 ],
 "metadata": {
  "kernelspec": {
   "display_name": "Python 3 (ipykernel)",
   "language": "python",
   "name": "python3"
  },
  "language_info": {
   "codemirror_mode": {
    "name": "ipython",
    "version": 3
   },
   "file_extension": ".py",
   "mimetype": "text/x-python",
   "name": "python",
   "nbconvert_exporter": "python",
   "pygments_lexer": "ipython3",
   "version": "3.8.13"
  }
 },
 "nbformat": 4,
 "nbformat_minor": 5
}
