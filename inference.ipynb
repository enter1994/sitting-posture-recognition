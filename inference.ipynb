{
 "cells": [
  {
   "cell_type": "code",
   "execution_count": 2,
   "id": "bdd9cad8-704a-48d1-a8ef-b4effbb51b4f",
   "metadata": {},
   "outputs": [
    {
     "name": "stdout",
     "output_type": "stream",
     "text": [
      "importing Jupyter notebook from /home/moon/research/sitting-posture-recognition/models/video_C3D.ipynb\n"
     ]
    }
   ],
   "source": [
    "import torch\n",
    "import import_ipynb\n",
    "import numpy as np\n",
    "from models.video_C3D import C3D\n",
    "import cv2"
   ]
  },
  {
   "cell_type": "code",
   "execution_count": 3,
   "id": "7183107c-b912-4f48-b922-d59c5774e796",
   "metadata": {},
   "outputs": [],
   "source": [
    "video_path = ''\n",
    "model_path = ''\n",
    "label_path = ''"
   ]
  },
  {
   "cell_type": "code",
   "execution_count": 2,
   "id": "384b5b7f-6625-4ca4-a671-5bf34aa71599",
   "metadata": {},
   "outputs": [],
   "source": [
    "torch.backends.cudnn.benchmark = True\n",
    "\n",
    "def CenterCrop(frame, size):\n",
    "    h, w = np.shape(frame)[0:2]\n",
    "    th, tw = size\n",
    "    x1 = int(round((w - tw) / 2.))\n",
    "    y1 = int(round((h - th) / 2.))\n",
    "\n",
    "    frame = frame[y1:y1 + th, x1:x1 + tw, :]\n",
    "    return np.array(frame).astype(np.uint8)\n",
    "\n",
    "\n",
    "def center_crop(frame):\n",
    "    frame = frame[8:120, 30:142, :]\n",
    "    return np.array(frame).astype(np.uint8)\n",
    "\n",
    "\n",
    "def main():\n",
    "    device = torch.device(\"cuda:1\" if torch.cuda.is_available() else \"cpu\")\n",
    "    print(\"Device being used:\", device)\n",
    "\n",
    "    with open(label_path, 'r') as f:\n",
    "        class_names = f.readlines()\n",
    "        f.close()\n",
    "        \n",
    "    # init model\n",
    "    model = C3D(num_classes=6)\n",
    "    model.load_state_dict(torch.load(model_path, map_location=lambda storage, loc: storage)['state_dict'])\n",
    "    model.to(device)\n",
    "    model.eval()\n",
    "\n",
    "    # read video\n",
    "    video = video_path\n",
    "\n",
    "    cap = cv2.VideoCapture(video)\n",
    "\n",
    "    retaining = True\n",
    "\n",
    "    clip = []\n",
    "    while retaining:\n",
    "        retaining, frame = cap.read()\n",
    "        print(frame)\n",
    "        if not retaining and frame is None:\n",
    "            continue\n",
    "        tmp_ = cv2.resize(frame, (320, 240))\n",
    "        tmp = tmp_ - np.array([[[90.0, 98.0, 102.0]]])\n",
    "        clip.append(tmp)\n",
    "        if len(clip) == 60:\n",
    "            inputs = np.array(clip).astype(np.float32)\n",
    "            inputs = np.expand_dims(inputs, axis=0)\n",
    "            print(inputs.shape)\n",
    "            inputs = np.transpose(inputs, (0, 4, 1, 2, 3))\n",
    "            inputs = torch.from_numpy(inputs)\n",
    "            inputs = torch.autograd.Variable(inputs, requires_grad=False).to(device)\n",
    "            with torch.no_grad():\n",
    "                outputs = model.forward(inputs)\n",
    "\n",
    "            probs = torch.nn.Softmax(dim=1)(outputs)\n",
    "            label = torch.max(probs, 1)[1].detach().cpu().numpy()[0]\n",
    "\n",
    "            # cv2.putText(frame, class_names[label].split(' ')[-1].strip(), (20, 20),\n",
    "            #             cv2.FONT_HERSHEY_SIMPLEX, 0.6,\n",
    "            #             (0, 0, 255), 1)\n",
    "            # cv2.putText(frame, \"prob: %.4f\" % probs[0][label], (20, 40),\n",
    "            #             cv2.FONT_HERSHEY_SIMPLEX, 0.6,\n",
    "            #             (0, 0, 255), 1)\n",
    "            clip.pop(0)\n",
    "\n",
    "        cv2.imshow('result', frame)\n",
    "        cv2.waitKey(30)\n",
    "\n",
    "    cap.release()\n",
    "    cv2.destroyAllWindows()"
   ]
  },
  {
   "cell_type": "code",
   "execution_count": 2,
   "id": "bf72e89f-68fe-4a06-8e43-b6e1633dfd21",
   "metadata": {},
   "outputs": [],
   "source": [
    "# if __name__ == '__main__':\n",
    "#     main()"
   ]
  }
 ],
 "metadata": {
  "kernelspec": {
   "display_name": "torch",
   "language": "python",
   "name": "torch"
  },
  "language_info": {
   "codemirror_mode": {
    "name": "ipython",
    "version": 3
   },
   "file_extension": ".py",
   "mimetype": "text/x-python",
   "name": "python",
   "nbconvert_exporter": "python",
   "pygments_lexer": "ipython3",
   "version": "3.8.12"
  }
 },
 "nbformat": 4,
 "nbformat_minor": 5
}
