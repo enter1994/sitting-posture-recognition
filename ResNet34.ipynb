{
 "cells": [
  {
   "cell_type": "code",
   "execution_count": 1,
   "id": "63838efa-fd23-4113-81f2-6db88949f730",
   "metadata": {},
   "outputs": [
    {
     "name": "stderr",
     "output_type": "stream",
     "text": [
      "/home/enter1994/miniconda3/envs/torch/lib/python3.8/site-packages/torchvision/io/image.py:13: UserWarning: Failed to load image Python extension: libtorch_cuda_cu.so: cannot open shared object file: No such file or directory\n",
      "  warn(f\"Failed to load image Python extension: {e}\")\n"
     ]
    }
   ],
   "source": [
    "import torch\n",
    "import torch.nn as nn\n",
    "import torchvision\n",
    "from torchvision import models, datasets\n",
    "from torch.utils.data import Dataset, DataLoader, random_split\n",
    "from torchvision.transforms import ToTensor\n",
    "import torchvision.transforms as transform\n",
    "\n",
    "import pathlib\n",
    "from tqdm import tqdm\n",
    "from PIL import Image\n",
    "import os\n",
    "import numpy as np\n",
    "import pandas as pd\n",
    "import matplotlib.pyplot as plt"
   ]
  },
  {
   "cell_type": "code",
   "execution_count": 2,
   "id": "ea932bf5-132e-4685-9b42-090790e3a67e",
   "metadata": {},
   "outputs": [],
   "source": [
    "input_size = 512\n",
    "learning_rate = 1e-5\n",
    "epochs = 20"
   ]
  },
  {
   "cell_type": "code",
   "execution_count": 3,
   "id": "4b2c31eb-937c-4405-bd64-648ca0eabad3",
   "metadata": {},
   "outputs": [
    {
     "data": {
      "text/plain": [
       "device(type='cuda')"
      ]
     },
     "execution_count": 3,
     "metadata": {},
     "output_type": "execute_result"
    }
   ],
   "source": [
    "device = torch.device('cuda')\n",
    "device"
   ]
  },
  {
   "cell_type": "code",
   "execution_count": 4,
   "id": "6a2b945e-3275-4857-9748-9ca0bdf5239c",
   "metadata": {
    "scrolled": true,
    "tags": []
   },
   "outputs": [],
   "source": [
    "num_classes = 5\n",
    "\n",
    "resnet = models.resnet34(pretrained=True)\n",
    "resnet.fc = nn.Linear(512, num_classes)"
   ]
  },
  {
   "cell_type": "code",
   "execution_count": 5,
   "id": "b9b9f53f-99e8-4d4a-a606-5719cfd9fe37",
   "metadata": {},
   "outputs": [],
   "source": [
    "my_model = resnet.to(device)"
   ]
  },
  {
   "cell_type": "markdown",
   "id": "eb3bfd74-59db-4c36-be98-3d51977bcd41",
   "metadata": {},
   "source": [
    "# Dataloader"
   ]
  },
  {
   "cell_type": "code",
   "execution_count": 6,
   "id": "38e85a88-2ac5-4d60-9653-30168436b434",
   "metadata": {},
   "outputs": [],
   "source": [
    "class CustomDataset(Dataset):\n",
    "    def __init__(self, data_root):\n",
    "        self.data = []\n",
    "        self.label = []\n",
    "        self.transform = transform.ToTensor()\n",
    "        \n",
    "        for name in pathlib.Path('./sensor_img/').glob('*.jpg'):\n",
    "            category = os.path.splitext(name)[0].split('/')[1]\n",
    "            self.label.append(category[1])\n",
    "            \n",
    "            self.data.append((str(name), int(category[1])))\n",
    "            \n",
    "    def __len__(self):\n",
    "        return len(self.data)\n",
    "    \n",
    "    def __getitem__(self, idx):\n",
    "        \n",
    "        path = self.data[idx][0]\n",
    "        \n",
    "        image = Image.open(f'./{path}')\n",
    "        image = self.transform(image.resize((input_size, input_size)))\n",
    "        image = np.array(image)\n",
    "        label = torch.tensor(self.data[idx][1])\n",
    "        \n",
    "        \n",
    "        if self.transform:\n",
    "            image = self.transform(image)\n",
    "            \n",
    "        image = image.permute(1,0,2)\n",
    "        \n",
    "        return image, label"
   ]
  },
  {
   "cell_type": "code",
   "execution_count": 7,
   "id": "4541fbe8-ea5d-4bb8-9f9e-0e2c81d8ae5d",
   "metadata": {
    "scrolled": true,
    "tags": []
   },
   "outputs": [],
   "source": [
    "dataset = CustomDataset('./data_sensor/')"
   ]
  },
  {
   "cell_type": "code",
   "execution_count": 8,
   "id": "88cde37c-8a58-4eb5-b5ff-0cb39a713e2d",
   "metadata": {},
   "outputs": [
    {
     "data": {
      "text/plain": [
       "288"
      ]
     },
     "execution_count": 8,
     "metadata": {},
     "output_type": "execute_result"
    }
   ],
   "source": [
    "len(dataset)"
   ]
  },
  {
   "cell_type": "code",
   "execution_count": 9,
   "id": "23c972a4-b3ec-4d7a-ad95-eb5f90daf35b",
   "metadata": {},
   "outputs": [],
   "source": [
    "# train test split\n",
    "train_size =  240\n",
    "test_size = 48\n",
    "\n",
    "train_dataset, test_dataset = random_split(dataset, [train_size, test_size])"
   ]
  },
  {
   "cell_type": "code",
   "execution_count": 10,
   "id": "3e19cb61-13e3-4e9c-b3ce-fb01affcc026",
   "metadata": {},
   "outputs": [],
   "source": [
    "train_dataloader = DataLoader(train_dataset, batch_size=16, shuffle=True)\n",
    "test_dataloader = DataLoader(test_dataset, batch_size=16, shuffle=True)"
   ]
  },
  {
   "cell_type": "code",
   "execution_count": 11,
   "id": "222889fc-8c1e-4c49-a1ee-4753022fbbb7",
   "metadata": {
    "scrolled": true,
    "tags": []
   },
   "outputs": [
    {
     "data": {
      "text/plain": [
       "torch.Size([16, 3, 512, 512])"
      ]
     },
     "execution_count": 11,
     "metadata": {},
     "output_type": "execute_result"
    }
   ],
   "source": [
    "next(iter(train_dataloader))[0].shape"
   ]
  },
  {
   "cell_type": "code",
   "execution_count": 12,
   "id": "f633e1bd-3ddb-4858-a240-1bfaa8bf704c",
   "metadata": {},
   "outputs": [
    {
     "name": "stdout",
     "output_type": "stream",
     "text": [
      "x.shape : torch.Size([16, 3, 512, 512])\n",
      "y.shape : torch.Size([16])\n"
     ]
    }
   ],
   "source": [
    "for x,y in train_dataloader:\n",
    "    \n",
    "    print(f'x.shape : {x.shape}')\n",
    "    print(f'y.shape : {y.shape}')\n",
    "\n",
    "    break"
   ]
  },
  {
   "cell_type": "code",
   "execution_count": 13,
   "id": "006f1527-a240-4631-a7d4-f9a443b124cc",
   "metadata": {},
   "outputs": [],
   "source": [
    "loss_fn = nn.CrossEntropyLoss()\n",
    "optimizer = torch.optim.Adam(my_model.parameters(), lr = learning_rate)"
   ]
  },
  {
   "cell_type": "markdown",
   "id": "61f13cf0-d129-4142-9c9a-b58fdc882a6f",
   "metadata": {},
   "source": [
    "# Train"
   ]
  },
  {
   "cell_type": "code",
   "execution_count": 14,
   "id": "8c8fb1c4-e150-4666-9f89-5e5a180c329b",
   "metadata": {},
   "outputs": [],
   "source": [
    "def train(dataloader, model, loss_fn, optimizer):\n",
    "    size = len(dataloader.dataset)\n",
    "    model.train()\n",
    "    \n",
    "    for batch, (x, y) in enumerate(dataloader):\n",
    "        optimizer.zero_grad()\n",
    "        \n",
    "        x, y = x.to(device), y.to(device)\n",
    "        \n",
    "        pred = model(x)\n",
    "#        pred = pred.softmax(dim=1)\n",
    "        \n",
    "        loss = loss_fn(pred, y)\n",
    "        \n",
    "        loss.backward()\n",
    "        optimizer.step()\n",
    "        \n",
    "        if batch % 8 == 0:\n",
    "            loss, current = loss.item(), batch * len(x)\n",
    "            \n",
    "            correct = (pred.argmax(1) == y).type(torch.float).mean().item()\n",
    "            \n",
    "            print(f'loss : {loss:>7f} [{current:>5d}/{size:>5d}]\\n Train Accuracy: {(100*correct):>0.1f}%')"
   ]
  },
  {
   "cell_type": "code",
   "execution_count": 15,
   "id": "e969d855-03a6-411d-90da-26d60d708219",
   "metadata": {},
   "outputs": [],
   "source": [
    "def test(dataloader, model, loss_fn):\n",
    "    size = len(dataloader.dataset)\n",
    "    num_batches = len(dataloader)\n",
    "    \n",
    "    model.eval()\n",
    "    \n",
    "    test_loss, correct = 0, 0\n",
    "    \n",
    "    with torch.no_grad():\n",
    "        for x,y in dataloader:\n",
    "            \n",
    "            x, y = x.to(device), y.to(device)\n",
    "\n",
    "            pred = model(x)\n",
    "            test_loss += loss_fn(pred, y).item()\n",
    "\n",
    "            correct += (pred.argmax(1) == y).type(torch.float).sum().item()\n",
    "#            print('pred :', torch.argmax(pred, dim=1))\n",
    "#            print('y :', y)\n",
    "    \n",
    "    test_loss /= num_batches\n",
    "    correct /= size\n",
    "    print(f'Test Error : \\n Accuracy: {(100*correct):>0.1f}%, Avg loss : {test_loss:>8f} \\n')"
   ]
  },
  {
   "cell_type": "code",
   "execution_count": 16,
   "id": "1c439f6e-b09b-4bf5-a2e9-e0a0146f20ee",
   "metadata": {
    "scrolled": true,
    "tags": []
   },
   "outputs": [
    {
     "name": "stdout",
     "output_type": "stream",
     "text": [
      "Epoch 1\n",
      "-------------------------------\n",
      "loss : 1.734476 [    0/  240]\n",
      " Train Accuracy: 0.0%\n",
      "loss : 1.153521 [  128/  240]\n",
      " Train Accuracy: 81.2%\n",
      "Test Error : \n",
      " Accuracy: 83.3%, Avg loss : 1.093898 \n",
      "\n",
      "Epoch 2\n",
      "-------------------------------\n",
      "loss : 1.144793 [    0/  240]\n",
      " Train Accuracy: 75.0%\n",
      "loss : 0.800050 [  128/  240]\n",
      " Train Accuracy: 81.2%\n",
      "Test Error : \n",
      " Accuracy: 85.4%, Avg loss : 0.660582 \n",
      "\n",
      "Epoch 3\n",
      "-------------------------------\n",
      "loss : 0.502598 [    0/  240]\n",
      " Train Accuracy: 100.0%\n",
      "loss : 0.842283 [  128/  240]\n",
      " Train Accuracy: 68.8%\n",
      "Test Error : \n",
      " Accuracy: 87.5%, Avg loss : 0.442572 \n",
      "\n",
      "Epoch 4\n",
      "-------------------------------\n",
      "loss : 0.729538 [    0/  240]\n",
      " Train Accuracy: 68.8%\n",
      "loss : 0.231814 [  128/  240]\n",
      " Train Accuracy: 100.0%\n",
      "Test Error : \n",
      " Accuracy: 91.7%, Avg loss : 0.356097 \n",
      "\n",
      "Epoch 5\n",
      "-------------------------------\n",
      "loss : 0.259348 [    0/  240]\n",
      " Train Accuracy: 93.8%\n",
      "loss : 0.251609 [  128/  240]\n",
      " Train Accuracy: 93.8%\n",
      "Test Error : \n",
      " Accuracy: 91.7%, Avg loss : 0.304231 \n",
      "\n",
      "Epoch 6\n",
      "-------------------------------\n",
      "loss : 0.140083 [    0/  240]\n",
      " Train Accuracy: 100.0%\n",
      "loss : 0.154418 [  128/  240]\n",
      " Train Accuracy: 100.0%\n",
      "Test Error : \n",
      " Accuracy: 91.7%, Avg loss : 0.282603 \n",
      "\n",
      "Epoch 7\n",
      "-------------------------------\n",
      "loss : 0.148445 [    0/  240]\n",
      " Train Accuracy: 100.0%\n",
      "loss : 0.131754 [  128/  240]\n",
      " Train Accuracy: 100.0%\n",
      "Test Error : \n",
      " Accuracy: 93.8%, Avg loss : 0.260113 \n",
      "\n",
      "Epoch 8\n",
      "-------------------------------\n",
      "loss : 0.174800 [    0/  240]\n",
      " Train Accuracy: 100.0%\n",
      "loss : 0.070391 [  128/  240]\n",
      " Train Accuracy: 100.0%\n",
      "Test Error : \n",
      " Accuracy: 93.8%, Avg loss : 0.236018 \n",
      "\n",
      "Epoch 9\n",
      "-------------------------------\n",
      "loss : 0.209559 [    0/  240]\n",
      " Train Accuracy: 93.8%\n",
      "loss : 0.081733 [  128/  240]\n",
      " Train Accuracy: 100.0%\n",
      "Test Error : \n",
      " Accuracy: 95.8%, Avg loss : 0.215280 \n",
      "\n",
      "Epoch 10\n",
      "-------------------------------\n",
      "loss : 0.040774 [    0/  240]\n",
      " Train Accuracy: 100.0%\n",
      "loss : 0.056237 [  128/  240]\n",
      " Train Accuracy: 100.0%\n",
      "Test Error : \n",
      " Accuracy: 95.8%, Avg loss : 0.206099 \n",
      "\n",
      "Epoch 11\n",
      "-------------------------------\n",
      "loss : 0.068074 [    0/  240]\n",
      " Train Accuracy: 100.0%\n",
      "loss : 0.037291 [  128/  240]\n",
      " Train Accuracy: 100.0%\n",
      "Test Error : \n",
      " Accuracy: 93.8%, Avg loss : 0.193996 \n",
      "\n",
      "Epoch 12\n",
      "-------------------------------\n",
      "loss : 0.054126 [    0/  240]\n",
      " Train Accuracy: 100.0%\n",
      "loss : 0.058693 [  128/  240]\n",
      " Train Accuracy: 100.0%\n",
      "Test Error : \n",
      " Accuracy: 95.8%, Avg loss : 0.191218 \n",
      "\n",
      "Epoch 13\n",
      "-------------------------------\n",
      "loss : 0.052025 [    0/  240]\n",
      " Train Accuracy: 100.0%\n",
      "loss : 0.095695 [  128/  240]\n",
      " Train Accuracy: 100.0%\n",
      "Test Error : \n",
      " Accuracy: 91.7%, Avg loss : 0.186276 \n",
      "\n",
      "Epoch 14\n",
      "-------------------------------\n",
      "loss : 0.085870 [    0/  240]\n",
      " Train Accuracy: 100.0%\n",
      "loss : 0.023059 [  128/  240]\n",
      " Train Accuracy: 100.0%\n",
      "Test Error : \n",
      " Accuracy: 93.8%, Avg loss : 0.182921 \n",
      "\n",
      "Epoch 15\n",
      "-------------------------------\n",
      "loss : 0.019240 [    0/  240]\n",
      " Train Accuracy: 100.0%\n",
      "loss : 0.018244 [  128/  240]\n",
      " Train Accuracy: 100.0%\n",
      "Test Error : \n",
      " Accuracy: 93.8%, Avg loss : 0.166142 \n",
      "\n",
      "Epoch 16\n",
      "-------------------------------\n",
      "loss : 0.018088 [    0/  240]\n",
      " Train Accuracy: 100.0%\n",
      "loss : 0.098096 [  128/  240]\n",
      " Train Accuracy: 100.0%\n",
      "Test Error : \n",
      " Accuracy: 95.8%, Avg loss : 0.174194 \n",
      "\n",
      "Epoch 17\n",
      "-------------------------------\n",
      "loss : 0.021391 [    0/  240]\n",
      " Train Accuracy: 100.0%\n",
      "loss : 0.069432 [  128/  240]\n",
      " Train Accuracy: 100.0%\n",
      "Test Error : \n",
      " Accuracy: 95.8%, Avg loss : 0.170525 \n",
      "\n",
      "Epoch 18\n",
      "-------------------------------\n",
      "loss : 0.055587 [    0/  240]\n",
      " Train Accuracy: 100.0%\n",
      "loss : 0.026433 [  128/  240]\n",
      " Train Accuracy: 100.0%\n",
      "Test Error : \n",
      " Accuracy: 93.8%, Avg loss : 0.175910 \n",
      "\n",
      "Epoch 19\n",
      "-------------------------------\n",
      "loss : 0.014052 [    0/  240]\n",
      " Train Accuracy: 100.0%\n",
      "loss : 0.011481 [  128/  240]\n",
      " Train Accuracy: 100.0%\n",
      "Test Error : \n",
      " Accuracy: 93.8%, Avg loss : 0.181930 \n",
      "\n",
      "Epoch 20\n",
      "-------------------------------\n",
      "loss : 0.053931 [    0/  240]\n",
      " Train Accuracy: 100.0%\n",
      "loss : 0.052610 [  128/  240]\n",
      " Train Accuracy: 100.0%\n",
      "Test Error : \n",
      " Accuracy: 93.8%, Avg loss : 0.156816 \n",
      "\n",
      "Done!\n"
     ]
    }
   ],
   "source": [
    "for t in range(epochs):\n",
    "    print(f\"Epoch {t+1}\\n-------------------------------\")\n",
    "    \n",
    "    train(train_dataloader, my_model, loss_fn, optimizer)\n",
    "    test(test_dataloader, my_model, loss_fn)\n",
    "    \n",
    "print(\"Done!\")"
   ]
  },
  {
   "cell_type": "code",
   "execution_count": null,
   "id": "b10e3760-70dd-4efa-897a-d8f0f18ed8a2",
   "metadata": {},
   "outputs": [],
   "source": []
  },
  {
   "cell_type": "code",
   "execution_count": null,
   "id": "6cd2a6fa-12e2-4594-8388-1b930bee0744",
   "metadata": {},
   "outputs": [],
   "source": []
  }
 ],
 "metadata": {
  "kernelspec": {
   "display_name": "torch",
   "language": "python",
   "name": "torch"
  },
  "language_info": {
   "codemirror_mode": {
    "name": "ipython",
    "version": 3
   },
   "file_extension": ".py",
   "mimetype": "text/x-python",
   "name": "python",
   "nbconvert_exporter": "python",
   "pygments_lexer": "ipython3",
   "version": "3.8.0"
  }
 },
 "nbformat": 4,
 "nbformat_minor": 5
}
